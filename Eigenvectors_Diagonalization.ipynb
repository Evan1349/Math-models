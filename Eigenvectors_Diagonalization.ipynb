{
 "cells": [
  {
   "cell_type": "markdown",
   "id": "255775de-ab6e-4881-8232-3128ecab83d8",
   "metadata": {},
   "source": [
    "# Eigenvectors & Diagonalization\n",
    "\n",
    "---\n",
    "\n",
    "## What is this?\n",
    "\n",
    "This notebook introduces **eigenvalues and eigenvectors**,  \n",
    "showing how a 2×2 matrix acts along directions that stay the same  \n",
    "(except for scaling) when transformed.\n",
    "\n",
    "---\n",
    "\n",
    "## Core idea\n",
    "\n",
    "- A matrix can stretch, compress, or rotate vectors.\n",
    "- Some special directions (eigenvectors) do not rotate — only their length changes.\n",
    "- The corresponding scaling factor is called an eigenvalue.\n",
    "- If a matrix is diagonalizable, it can be written as:\n",
    "  $\n",
    "  A = P D P^{-1}\n",
    "  \\quad\n",
    "  \\text{where } D \\text{ is diagonal}.\n",
    "  $\n",
    "- In this new basis, the matrix operation becomes simpler:  \n",
    "  no mixing between directions!\n",
    "\n",
    "---\n",
    "\n",
    "## What we’ll do\n",
    "\n",
    "1. Define a simple 2×2 matrix  \n",
    "2. Compute its eigenvalues and eigenvectors  \n",
    "3. Visualize the effect: show original vector vs. eigenvectors  \n",
    "4. Diagonalize the matrix and verify `A = PDP⁻¹`  \n",
    "5. Interpret what diagonalization means for repeated multiplication\n",
    "\n",
    "---\n",
    "\n",
    "## Goal\n",
    "\n",
    "> See how eigenvectors and diagonalization simplify linear transformations  \n",
    "> and reveal hidden structure in the matrix.\n"
   ]
  },
  {
   "cell_type": "code",
   "execution_count": 2,
   "id": "9150133f-9beb-458e-8b1e-a4ff1d17586f",
   "metadata": {},
   "outputs": [],
   "source": [
    "import numpy as np\n",
    "import matplotlib.pyplot as plt"
   ]
  },
  {
   "cell_type": "code",
   "execution_count": 3,
   "id": "286a415f-f612-4f67-b37d-b720b7272efc",
   "metadata": {},
   "outputs": [
    {
     "name": "stdout",
     "output_type": "stream",
     "text": [
      "Eigenvalues: [5. 2.]\n",
      "Eigenvectors (columns):\n",
      " [[ 0.89442719 -0.70710678]\n",
      " [ 0.4472136   0.70710678]]\n"
     ]
    }
   ],
   "source": [
    "A = np.array([[4, 2],\n",
    "              [1, 3]])\n",
    "\n",
    "eigvals, eigvecs = np.linalg.eig(A)\n",
    "print(\"Eigenvalues:\", eigvals)\n",
    "print(\"Eigenvectors (columns):\\n\", eigvecs)"
   ]
  },
  {
   "cell_type": "code",
   "execution_count": 4,
   "id": "e3852c8c-cf23-4ff6-9d50-46dc167be263",
   "metadata": {},
   "outputs": [
    {
     "name": "stdout",
     "output_type": "stream",
     "text": [
      "A @ eigvec1: [4.47213595 2.23606798]\n",
      "eigval1 * eigvec1: [4.47213595 2.23606798]\n"
     ]
    }
   ],
   "source": [
    "eigvec1 = eigvecs[:, 0]\n",
    "eigval1 = eigvals[0]\n",
    "\n",
    "lhs = A @ eigvec1\n",
    "rhs = eigval1 * eigvec1\n",
    "\n",
    "print(\"A @ eigvec1:\", lhs)\n",
    "print(\"eigval1 * eigvec1:\", rhs)"
   ]
  },
  {
   "cell_type": "code",
   "execution_count": 6,
   "id": "1095e506-a152-4ceb-a805-fe8ab9725f5b",
   "metadata": {},
   "outputs": [
    {
     "data": {
      "image/png": "[encoded data removed]",
      "text/plain": [
       "<Figure size 700x700 with 1 Axes>"
      ]
     },
     "metadata": {},
     "output_type": "display_data"
    }
   ],
   "source": [
    "origin = np.zeros(2)\n",
    "\n",
    "fig, ax = plt.subplots(figsize=(7,7))\n",
    "\n",
    "for i in range(2):\n",
    "    eigvec = eigvecs[:, i].real\n",
    "    scaled_vec = eigvals[i].real * eigvec\n",
    "\n",
    "    ax.quiver(*origin, *eigvec, color='b', angles='xy', scale_units='xy', scale=1, label=f'eigvec {i+1}')\n",
    "    ax.quiver(*origin, *scaled_vec, color='r', angles='xy', scale_units='xy', scale=1, label=f'λ * eigvec {i+1}')\n",
    "\n",
    "ax.axhline(0, color='grey', lw=0.5)\n",
    "ax.axvline(0, color='grey', lw=0.5)\n",
    "ax.set_aspect('equal')\n",
    "ax.set_xlim(-5, 5)\n",
    "ax.set_ylim(-5, 5)\n",
    "ax.legend()\n",
    "ax.set_title('Eigenvectors and Scaled Directions')\n",
    "plt.show()"
   ]
  },
  {
   "cell_type": "markdown",
   "id": "d5ec1bba-58a1-46da-9a9d-ae0fd682b2ce",
   "metadata": {},
   "source": [
    "## Interpretation – Visual\n",
    "\n",
    "- The **blue vectors** show the eigenvectors: directions that stay unchanged in direction when `A` acts.\n",
    "- The **red vectors** show the effect of applying `A` to each eigenvector:\n",
    "  - The vector is scaled by its eigenvalue.\n",
    "  - The direction does not change.\n",
    "- This confirms that along these directions, the linear transformation only stretches or compresses — no rotation.\n",
    "- Diagonalization uses these directions as a new basis to simplify the transformation.\n"
   ]
  },
  {
   "cell_type": "code",
   "execution_count": 7,
   "id": "2431f4b0-f97b-41d7-8069-122ba10d1bce",
   "metadata": {},
   "outputs": [
    {
     "name": "stdout",
     "output_type": "stream",
     "text": [
      "Original A:\n",
      " [[4 2]\n",
      " [1 3]]\n",
      "Reconstructed A (PDP^-1):\n",
      " [[4. 2.]\n",
      " [1. 3.]]\n"
     ]
    }
   ],
   "source": [
    "# Form diagonal matrix D and P\n",
    "P = eigvecs\n",
    "D = np.diag(eigvals)\n",
    "P_inv = np.linalg.inv(P)\n",
    "\n",
    "# Reconstruct A\n",
    "A_reconstructed = P @ D @ P_inv\n",
    "\n",
    "print(\"Original A:\\n\", A)\n",
    "print(\"Reconstructed A (PDP^-1):\\n\", A_reconstructed)\n"
   ]
  },
  {
   "cell_type": "markdown",
   "id": "26f595fb-afc5-46b4-adc5-1fb069f32806",
   "metadata": {},
   "source": [
    "## Interpretation\n",
    "\n",
    "- Each eigenvector shows a direction that stays unchanged (except for scaling) when `A` acts.\n",
    "- The eigenvalue tells how much that vector is stretched or compressed.\n",
    "- Diagonalization means `A` can be rewritten as `P D P⁻¹`:\n",
    "  - `P`: change of basis to the eigenvector directions.\n",
    "  - `D`: diagonal matrix; each direction just scales by its eigenvalue.\n",
    "- This makes it easy to compute powers:\n",
    "  $\n",
    "  A^n = P D^n P^{-1}\n",
    "  \\quad\n",
    "  \\text{where } D^n \\text{ is trivial to compute.}\n",
    "  $\n",
    "- Geometrically, the transformation looks like:\n",
    "  1. Change coordinates to the eigenbasis.\n",
    "  2. Scale each axis independently.\n",
    "  3. Change back to the original basis.\n",
    "\n",
    "> Eigenvectors and diagonalization reveal the “natural” directions of a transformation.\n"
   ]
  },
  {
   "cell_type": "code",
   "execution_count": null,
   "id": "ff188569-a456-4d04-98b1-33dec7724de4",
   "metadata": {},
   "outputs": [],
   "source": []
  }
 ],
 "metadata": {
  "kernelspec": {
   "display_name": "Python [conda env:base] *",
   "language": "python",
   "name": "conda-base-py"
  },
  "language_info": {
   "codemirror_mode": {
    "name": "ipython",
    "version": 3
   },
   "file_extension": ".py",
   "mimetype": "text/x-python",
   "name": "python",
   "nbconvert_exporter": "python",
   "pygments_lexer": "ipython3",
   "version": "3.13.5"
  }
 },
 "nbformat": 4,
 "nbformat_minor": 5
}
