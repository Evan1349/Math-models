{
 "cells": [
  {
   "cell_type": "markdown",
   "id": "c811597d-7a63-4f2d-b8d6-1dc741ec780a",
   "metadata": {},
   "source": [
    "# Vectors – Linear Algebra Foundations\n",
    "\n",
    "---\n",
    "\n",
    "## What is this?\n",
    "\n",
    "This notebook introduces **vectors**, the building blocks of linear algebra.\n",
    "\n",
    "---\n",
    "\n",
    "## Core idea\n",
    "\n",
    "- Vectors have both magnitude and direction.\n",
    "- They can be added, scaled, and combined to form new vectors.\n",
    "- Inner (dot) and cross products describe angles, projection, and perpendicularity.\n",
    "- The span and linear independence of vectors form the foundation for vector spaces.\n",
    "\n",
    "---\n",
    "\n",
    "## What we’ll do\n",
    "\n",
    "1. Define and visualize vectors in 2D and 3D  \n",
    "2. Compute vector addition and scalar multiplication  \n",
    "3. Compute dot and cross products and interpret them  \n",
    "4. Visualize vector combinations and span  \n",
    "5. Confirm orthogonality and basic basis ideas\n",
    "\n",
    "---\n",
    "\n",
    "## Goal\n",
    "\n",
    "> Build intuition about vectors algebraically and geometrically using Python.\n"
   ]
  },
  {
   "cell_type": "code",
   "execution_count": 12,
   "id": "ecdf20f7-b8bc-4e32-a0e5-9d6f86d716a5",
   "metadata": {},
   "outputs": [],
   "source": [
    "import numpy as np\n",
    "\n",
    "import matplotlib.pyplot as plt"
   ]
  },
  {
   "cell_type": "code",
   "execution_count": 13,
   "id": "65fc5c36-885b-440a-be50-c891913b33df",
   "metadata": {},
   "outputs": [],
   "source": [
    "A = np.array([[2, 1],\n",
    "              [1, 2]])\n",
    "\n",
    "v1 = np.array([2, 1])\n",
    "v2 = np.array([1, 2])"
   ]
  },
  {
   "cell_type": "code",
   "execution_count": 14,
   "id": "e17f48e3-fcd7-4634-a920-dacee638638a",
   "metadata": {},
   "outputs": [
    {
     "name": "stdout",
     "output_type": "stream",
     "text": [
      "A * v1 = [5 4]\n",
      "A * v2 = [4 5]\n"
     ]
    }
   ],
   "source": [
    "v1_transformed = A @ v1\n",
    "v2_transformed = A @ v2\n",
    "\n",
    "print(\"A * v1 =\", v1_transformed)\n",
    "print(\"A * v2 =\", v2_transformed)"
   ]
  },
  {
   "cell_type": "code",
   "execution_count": 17,
   "id": "bf6c1ce3-228a-4077-a4b6-076a0ff621ab",
   "metadata": {},
   "outputs": [
    {
     "data": {
      "image/png": "[encoded data removed]",
      "text/plain": [
       "<Figure size 600x600 with 1 Axes>"
      ]
     },
     "metadata": {},
     "output_type": "display_data"
    }
   ],
   "source": [
    "origin = np.zeros(2)\n",
    "\n",
    "plt.figure(figsize=(6, 6))\n",
    "\n",
    "plt.quiver(*origin, *v1, color='r', scale=1, label='v1')\n",
    "plt.quiver(*origin, *v2, color='b', scale=1, label='v2')\n",
    "\n",
    "plt.quiver(*origin, *v1_transformed, color='r', alpha=0.5, scale=1, label='A*v1')\n",
    "plt.quiver(*origin, *v2_transformed, color='b', alpha=0.5, scale=1, label='A*v2')\n",
    "\n",
    "plt.xlim(-1, 10)\n",
    "plt.ylim(-1, 10)\n",
    "plt.axhline(0, color='gray', lw=0.5)\n",
    "plt.axvline(0, color='gray', lw=0.5)\n",
    "plt.legend()\n",
    "plt.title('2×2 Matrix Transformation')\n",
    "plt.grid(True)\n",
    "plt.show()"
   ]
  },
  {
   "cell_type": "markdown",
   "id": "3615712e-74de-49ae-a240-eed9da7097a9",
   "metadata": {},
   "source": [
    "## Interpretation\n",
    "\n",
    "When we apply a 2×2 matrix **A** to vectors in 2D space, we’re performing a **linear transformation**.\n",
    "\n",
    "- The original vectors `v1` and `v2` represent a basis (or a region they span) before transformation.\n",
    "- The transformed vectors `A*v1` and `A*v2` show how that same region changes under the linear map.\n",
    "- The **directions** of the vectors may change, showing rotation or shearing.\n",
    "- The **lengths** may change, showing stretching or compression.\n",
    "- The **angle** between them may change, revealing distortion of the basis.\n",
    "\n",
    "The determinant of **A** tells us about the change in **area**:\n",
    "- If `det(A)` > 0, orientation is preserved.\n",
    "- If `det(A)` < 0, orientation is flipped (the parallelogram is mirrored).\n",
    "- The absolute value of `det(A)` gives the factor by which the area of the unit square (or the parallelogram spanned by the original vectors) is scaled.\n",
    "\n",
    "> Visualizing the original and transformed vectors together makes the action of the matrix clear: you see exactly how a simple grid or any vector combination would be mapped in the plane.\n"
   ]
  },
  {
   "cell_type": "markdown",
   "id": "5668443e-eeb6-481f-bd61-aa548d5b0e08",
   "metadata": {},
   "source": [
    "# 2×2 Matrices – Determinant and Area Scaling\n",
    "\n",
    "---\n",
    "\n",
    "## What is this?\n",
    "\n",
    "This notebook shows how a **2×2 matrix** acts as a linear transformation  \n",
    "and how its **determinant** measures the scaling of area in 2D space.\n",
    "\n",
    "---\n",
    "\n",
    "## Core idea\n",
    "\n",
    "- Any 2×2 matrix `A` maps vectors in 2D to new vectors.\n",
    "- The **determinant** of `A` tells you how the area of shapes changes:\n",
    "  - `|det(A)|` is the scale factor for area.\n",
    "  - `det(A)` < 0 means the transformation flips orientation.\n",
    "- A pair of vectors `[v1 v2]` span a parallelogram whose area is `|det([v1 v2])|`.\n",
    "- After applying `A`, the new parallelogram’s area is `|det(A)|` times the original.\n",
    "\n",
    "---\n",
    "\n",
    "## What we’ll do\n",
    "\n",
    "1. Define a 2×2 matrix and basis vectors  \n",
    "2. Visualize the original and transformed vectors  \n",
    "3. Compute and compare determinants: original span, transformation, and transformed span  \n",
    "4. Interpret how the determinant connects algebra to geometry\n",
    "\n",
    "---\n",
    "\n",
    "## Goal\n",
    "\n",
    "> Understand how determinants show up naturally  \n",
    "> as the signed scale factor for area in linear maps.\n"
   ]
  },
  {
   "cell_type": "code",
   "execution_count": 18,
   "id": "9b106ce7-2d87-406d-a5e7-24cd69e4e59b",
   "metadata": {},
   "outputs": [],
   "source": [
    "B = np.column_stack((v1, v2))\n",
    "det_B = np.linalg.det(B)"
   ]
  },
  {
   "cell_type": "code",
   "execution_count": 20,
   "id": "60c568d1-07dc-4990-b31c-abb3891ea14b",
   "metadata": {},
   "outputs": [
    {
     "name": "stdout",
     "output_type": "stream",
     "text": [
      "det(B): 2.9999999999999996\n",
      "det(A): 2.9999999999999996\n",
      "det(B_transformed): 8.999999999999998\n",
      "det(B_transformed) ?= det(A) * det(B): 8.999999999999998 vs 8.999999999999998\n"
     ]
    }
   ],
   "source": [
    "B_transformed = A @ B\n",
    "det_B_transformed = np.linalg.det(B_transformed)\n",
    "det_A = np.linalg.det(A)\n",
    "\n",
    "print(\"det(B):\", det_B)\n",
    "print(\"det(A):\", det_A)\n",
    "print(\"det(B_transformed):\", det_B_transformed)\n",
    "print(\"det(B_transformed) ?= det(A) * det(B):\", det_B_transformed, \"vs\", det_A * det_B)"
   ]
  },
  {
   "cell_type": "code",
   "execution_count": 21,
   "id": "a52a25e0-ae5f-4d4c-a9dd-72ec398768f9",
   "metadata": {},
   "outputs": [
    {
     "data": {
      "image/png": "[encoded data removed]",
      "text/plain": [
       "<Figure size 600x600 with 1 Axes>"
      ]
     },
     "metadata": {},
     "output_type": "display_data"
    }
   ],
   "source": [
    "fig, ax = plt.subplots(figsize=(6,6))\n",
    "\n",
    "parallelogram = np.array([\n",
    "    [0, 0],\n",
    "    v1,\n",
    "    v1 + v2,\n",
    "    v2,\n",
    "    [0, 0]\n",
    "])\n",
    "ax.plot(parallelogram[:,0], parallelogram[:,1], 'b-', label='Original span')\n",
    "ax.fill(parallelogram[:,0], parallelogram[:,1], 'b', alpha=0.2)\n",
    "\n",
    "v1_t = B_transformed[:,0]\n",
    "v2_t = B_transformed[:,1]\n",
    "\n",
    "parallelogram_t = np.array([\n",
    "    [0, 0],\n",
    "    v1_t,\n",
    "    v1_t + v2_t,\n",
    "    v2_t,\n",
    "    [0, 0]\n",
    "])\n",
    "ax.plot(parallelogram_t[:,0], parallelogram_t[:,1], 'r-', label='Transformed span')\n",
    "ax.fill(parallelogram_t[:,0], parallelogram_t[:,1], 'r', alpha=0.2)\n",
    "\n",
    "\n",
    "ax.axhline(0, color='grey', lw=0.5)\n",
    "ax.axvline(0, color='grey', lw=0.5)\n",
    "ax.set_aspect('equal')\n",
    "ax.set_xlim(-1, max(v1_t[0]+v2_t[0], v1[0]+v2[0]) + 1)\n",
    "ax.set_ylim(-1, max(v1_t[1]+v2_t[1], v1[1]+v2[1]) + 1)\n",
    "ax.legend()\n",
    "ax.set_title('Parallelogram Area Change by det(A)')\n",
    "\n",
    "plt.show()"
   ]
  },
  {
   "cell_type": "markdown",
   "id": "b8242610-047f-4cb2-b394-baef060f8e7e",
   "metadata": {},
   "source": [
    "## Interpretation\n",
    "\n",
    "- The blue parallelogram shows the original area spanned by `[v1 v2]`.\n",
    "- The red parallelogram shows the same vectors after the linear transformation `A` is applied.\n",
    "- The determinant of `A` acts as a **scale factor** for area.\n",
    "- The ratio `|det(B_transformed)| / |det(B)|` equals `|det(A)|`.\n",
    "- This means any shape you build with `[v1 v2]` will have its area scaled by `|det(A)|` when you apply `A`.\n",
    "\n",
    "> Visually, the determinant connects algebra and geometry:  \n",
    "> it measures how a matrix stretches, compresses, or flips shapes in space.\n"
   ]
  },
  {
   "cell_type": "code",
   "execution_count": null,
   "id": "02fe2a99-2337-4884-9cca-423415302e5d",
   "metadata": {},
   "outputs": [],
   "source": []
  }
 ],
 "metadata": {
  "kernelspec": {
   "display_name": "Python [conda env:base] *",
   "language": "python",
   "name": "conda-base-py"
  },
  "language_info": {
   "codemirror_mode": {
    "name": "ipython",
    "version": 3
   },
   "file_extension": ".py",
   "mimetype": "text/x-python",
   "name": "python",
   "nbconvert_exporter": "python",
   "pygments_lexer": "ipython3",
   "version": "3.13.5"
  }
 },
 "nbformat": 4,
 "nbformat_minor": 5
}
