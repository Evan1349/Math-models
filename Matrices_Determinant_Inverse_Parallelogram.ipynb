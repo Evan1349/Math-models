{
 "cells": [
  {
   "cell_type": "markdown",
   "id": "d9403dec-9d2a-49cb-ab2c-e655efb07e36",
   "metadata": {},
   "source": [
    "# Vectors & 2×2 Matrices: Determinant, Inverse, Parallelogram\n",
    "\n",
    "---\n",
    "\n",
    "## What is this?\n",
    "\n",
    "This notebook shows how two 2D vectors span an area,  \n",
    "how a 2×2 matrix transforms that area,  \n",
    "and how the determinant and inverse reveal the transformation’s geometry.\n",
    "\n",
    "---\n",
    "\n",
    "## Core idea\n",
    "\n",
    "- Two vectors `[v1, v2]` in 2D span a parallelogram.\n",
    "- A 2×2 matrix `A` acts as a linear transformation that stretches, compresses, or flips that shape.\n",
    "- The **determinant** measures how the area changes.\n",
    "- If `det(A) = 0`, the transformation flattens the space → matrix is singular → no inverse.\n",
    "- If `det(A) ≠ 0`, `A` is invertible: the transformation is reversible.\n",
    "\n",
    "---\n",
    "\n",
    "## What we’ll do\n",
    "\n",
    "1. Define two 2D vectors and a 2×2 matrix `A`  \n",
    "2. Visualize the original parallelogram they span  \n",
    "3. Apply `A` and see the new parallelogram  \n",
    "4. Compute `det(B)`, `det(A)`, `det(B_transformed)` and verify area scaling  \n",
    "5. Compute the inverse `A⁻¹` if it exists  \n",
    "6. Solve a sample linear system `Ax = b`  \n",
    "7. Interpret how these pieces connect geometry and algebra\n",
    "\n",
    "---\n",
    "\n",
    "## Goal\n",
    "\n",
    "> Understand how vectors, matrices, determinants, and inverses  \n",
    "> combine to show the geometric effect of a linear transformation.\n"
   ]
  },
  {
   "cell_type": "code",
   "execution_count": 7,
   "id": "e5b1d170-56a9-4bc5-a9b7-abee734f9265",
   "metadata": {},
   "outputs": [
    {
     "name": "stdout",
     "output_type": "stream",
     "text": [
      "det(B) (original parallelogram area): 2.9999999999999996\n",
      "det(A) (transformation scale factor): 0.0\n",
      "det(B_transformed) (new area): 0.0\n",
      "det(B_transformed) ?= det(A) * det(B): 0.0 vs 0.0\n"
     ]
    }
   ],
   "source": [
    "import numpy as np\n",
    "import matplotlib.pyplot as plt\n",
    "\n",
    "\n",
    "# Define original vectors\n",
    "v1 = np.array([2, 1])\n",
    "v2 = np.array([1, 2])\n",
    "\n",
    "# Define transformation matrix A\n",
    "A = np.array([[1, 2],\n",
    "              [2, 4]])  \n",
    "\n",
    "# Stack vectors as a matrix B\n",
    "B = np.column_stack((v1, v2))\n",
    "\n",
    "# Apply transformation\n",
    "B_transformed = A @ B\n",
    "\n",
    "# Compute determinants\n",
    "det_B = np.linalg.det(B)\n",
    "det_A = np.linalg.det(A)\n",
    "det_B_transformed = np.linalg.det(B_transformed)\n",
    "\n",
    "print(\"det(B) (original parallelogram area):\", det_B)\n",
    "print(\"det(A) (transformation scale factor):\", det_A)\n",
    "print(\"det(B_transformed) (new area):\", det_B_transformed)\n",
    "print(\"det(B_transformed) ?= det(A) * det(B):\", det_B_transformed, \"vs\", det_A * det_B)\n"
   ]
  },
  {
   "cell_type": "code",
   "execution_count": 8,
   "id": "b09a4ce0-b008-4d1a-81aa-635b79e5f339",
   "metadata": {},
   "outputs": [
    {
     "name": "stdout",
     "output_type": "stream",
     "text": [
      "Matrix A is singular; inverse does not exist.\n",
      "Cannot solve Ax = b because A is singular.\n"
     ]
    },
    {
     "data": {
      "image/png": "[encoded data removed]",
      "text/plain": [
       "<Figure size 700x700 with 1 Axes>"
      ]
     },
     "metadata": {},
     "output_type": "display_data"
    }
   ],
   "source": [
    "\n",
    "\n",
    "fig, ax = plt.subplots(figsize=(7,7))\n",
    "\n",
    "if det_A != 0:\n",
    "    A_inv = np.linalg.inv(A)\n",
    "    print(\"Inverse of A:\\n\", A_inv)\n",
    "else:\n",
    "    print(\"Matrix A is singular; inverse does not exist.\")\n",
    "\n",
    "# Solve Ax = b\n",
    "b = np.array([1, 1])\n",
    "\n",
    "if det_A != 0:\n",
    "    x = A_inv @ b\n",
    "    # Or: x = np.linalg.solve(A, b)\n",
    "    print(\"Solution x:\", x)\n",
    "    print(\"Check: A @ x =\", A @ x, \"should equal b =\", b)\n",
    "else:\n",
    "    print(\"Cannot solve Ax = b because A is singular.\")\n",
    "\n",
    "\n",
    "# Original parallelogram\n",
    "P = np.array([\n",
    "    [0,0],\n",
    "    v1,\n",
    "    v1 + v2,\n",
    "    v2,\n",
    "    [0,0]\n",
    "])\n",
    "ax.plot(P[:,0], P[:,1], 'b-', label='Original span')\n",
    "ax.fill(P[:,0], P[:,1], 'b', alpha=0.2)\n",
    "\n",
    "# Transformed parallelogram\n",
    "v1_t = B_transformed[:,0]\n",
    "v2_t = B_transformed[:,1]\n",
    "P_t = np.array([\n",
    "    [0,0],\n",
    "    v1_t,\n",
    "    v1_t + v2_t,\n",
    "    v2_t,\n",
    "    [0,0]\n",
    "])\n",
    "ax.plot(P_t[:,0], P_t[:,1], 'r-', label='Transformed span')\n",
    "ax.fill(P_t[:,0], P_t[:,1], 'r', alpha=0.2)\n",
    "\n",
    "# Axes\n",
    "ax.axhline(0, color='grey', lw=0.5)\n",
    "ax.axvline(0, color='grey', lw=0.5)\n",
    "ax.set_aspect('equal')\n",
    "ax.legend()\n",
    "ax.set_title('Original vs. Transformed Parallelogram')\n",
    "\n",
    "plt.show()"
   ]
  },
  {
   "cell_type": "markdown",
   "id": "4eb9e5c8-66c7-4a59-a804-ab432c8722bc",
   "metadata": {},
   "source": [
    "## Oops! Looks like our matrix A is singular."
   ]
  },
  {
   "cell_type": "code",
   "execution_count": 11,
   "id": "e6cd938c-9c3e-4f23-ad91-b9aedabd0b01",
   "metadata": {},
   "outputs": [
    {
     "name": "stdout",
     "output_type": "stream",
     "text": [
      "det(B) (original parallelogram area): 2.9999999999999996\n",
      "det(A) (transformation scale factor): 2.9999999999999996\n",
      "det(B_transformed) (new area): 8.999999999999998\n",
      "det(B_transformed) ?= det(A) * det(B): 8.999999999999998 vs 8.999999999999998\n"
     ]
    }
   ],
   "source": [
    "v1 = np.array([2, 1])\n",
    "v2 = np.array([1, 2])\n",
    "\n",
    "# Then, we shift matrix A\n",
    "A = np.array([[2, 1],\n",
    "              [1, 2]]) \n",
    "\n",
    "# Stack vectors as a matrix B\n",
    "B = np.column_stack((v1, v2))\n",
    "\n",
    "# Apply transformation\n",
    "B_transformed = A @ B\n",
    "\n",
    "# Compute determinants\n",
    "det_B = np.linalg.det(B)\n",
    "det_A = np.linalg.det(A)\n",
    "det_B_transformed = np.linalg.det(B_transformed)\n",
    "\n",
    "print(\"det(B) (original parallelogram area):\", det_B)\n",
    "print(\"det(A) (transformation scale factor):\", det_A)\n",
    "print(\"det(B_transformed) (new area):\", det_B_transformed)\n",
    "print(\"det(B_transformed) ?= det(A) * det(B):\", det_B_transformed, \"vs\", det_A * det_B)"
   ]
  },
  {
   "cell_type": "code",
   "execution_count": 12,
   "id": "1d26be42-fcb8-44b9-9fbe-907040de246b",
   "metadata": {},
   "outputs": [
    {
     "name": "stdout",
     "output_type": "stream",
     "text": [
      "Inverse of A:\n",
      " [[ 0.66666667 -0.33333333]\n",
      " [-0.33333333  0.66666667]]\n",
      "Solution x: [0.33333333 0.33333333]\n",
      "Check: A @ x = [1. 1.] should equal b = [1 1]\n"
     ]
    },
    {
     "data": {
      "image/png": "[encoded data removed]",
      "text/plain": [
       "<Figure size 700x700 with 1 Axes>"
      ]
     },
     "metadata": {},
     "output_type": "display_data"
    }
   ],
   "source": [
    "if det_A != 0:\n",
    "    A_inv = np.linalg.inv(A)\n",
    "    print(\"Inverse of A:\\n\", A_inv)\n",
    "else:\n",
    "    print(\"Matrix A is singular; inverse does not exist.\")\n",
    "\n",
    "# Solve Ax = b\n",
    "b = np.array([1, 1])\n",
    "\n",
    "if det_A != 0:\n",
    "    x = A_inv @ b\n",
    "    # Or: x = np.linalg.solve(A, b)\n",
    "    print(\"Solution x:\", x)\n",
    "    print(\"Check: A @ x =\", A @ x, \"should equal b =\", b)\n",
    "else:\n",
    "    print(\"Cannot solve Ax = b because A is singular.\")\n",
    "\n",
    "\n",
    "\n",
    "fig, ax = plt.subplots(figsize=(7,7))\n",
    "\n",
    "# Original parallelogram\n",
    "P = np.array([\n",
    "    [0,0],\n",
    "    v1,\n",
    "    v1 + v2,\n",
    "    v2,\n",
    "    [0,0]\n",
    "])\n",
    "ax.plot(P[:,0], P[:,1], 'b-', label='Original span')\n",
    "ax.fill(P[:,0], P[:,1], 'b', alpha=0.2)\n",
    "\n",
    "# Transformed parallelogram\n",
    "v1_t = B_transformed[:,0]\n",
    "v2_t = B_transformed[:,1]\n",
    "P_t = np.array([\n",
    "    [0,0],\n",
    "    v1_t,\n",
    "    v1_t + v2_t,\n",
    "    v2_t,\n",
    "    [0,0]\n",
    "])\n",
    "ax.plot(P_t[:,0], P_t[:,1], 'r-', label='Transformed span')\n",
    "ax.fill(P_t[:,0], P_t[:,1], 'r', alpha=0.2)\n",
    "\n",
    "# Axes\n",
    "ax.axhline(0, color='grey', lw=0.5)\n",
    "ax.axvline(0, color='grey', lw=0.5)\n",
    "ax.set_aspect('equal')\n",
    "ax.legend()\n",
    "ax.set_title('Original vs. Transformed Parallelogram')\n",
    "\n",
    "plt.show()\n"
   ]
  },
  {
   "cell_type": "markdown",
   "id": "b97bdc35-f511-40a3-a490-e79c500c1cc9",
   "metadata": {},
   "source": [
    "## Interpretation\n",
    "\n",
    "- **Vectors & Span:** Two vectors `[v1, v2]` span a parallelogram that represents all their linear combinations.\n",
    "- **Transformation A:** Applying `A` stretches, compresses, or flips this parallelogram.\n",
    "- **Determinant:** `det(A)` shows the area scaling factor:\n",
    "  - `|det(A)|` > 1 means expansion.\n",
    "  - `|det(A)|` < 1 means contraction.\n",
    "  - Negative means flipped orientation.\n",
    "  - Zero means the shape is flattened into a line → information is lost.\n",
    "- **Inverse:** If `det(A) ≠ 0`, then `A` is invertible and its effect can be reversed.\n",
    "- **Solving Ax = b:** Solving a linear system means finding the vector `x` that maps to `b`.  \n",
    "  If `A` is invertible, `x` is unique.  \n",
    "  If `A` is singular, the system is either impossible or underdetermined.\n",
    "\n",
    "> Together, the parallelogram and determinant show how linear transformations affect shapes geometrically and why invertibility matters algebraically.\n"
   ]
  },
  {
   "cell_type": "code",
   "execution_count": null,
   "id": "368d93ff-0972-4d18-826d-ca422a54de2c",
   "metadata": {},
   "outputs": [],
   "source": []
  }
 ],
 "metadata": {
  "kernelspec": {
   "display_name": "Python [conda env:base] *",
   "language": "python",
   "name": "conda-base-py"
  },
  "language_info": {
   "codemirror_mode": {
    "name": "ipython",
    "version": 3
   },
   "file_extension": ".py",
   "mimetype": "text/x-python",
   "name": "python",
   "nbconvert_exporter": "python",
   "pygments_lexer": "ipython3",
   "version": "3.13.5"
  }
 },
 "nbformat": 4,
 "nbformat_minor": 5
}
